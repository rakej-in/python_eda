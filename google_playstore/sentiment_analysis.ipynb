{
  "nbformat": 4,
  "nbformat_minor": 0,
  "metadata": {
    "colab": {
      "provenance": [],
      "mount_file_id": "154-mRcmaeEJiyx4HYs_lljnl3OLzXO6r",
      "authorship_tag": "ABX9TyNVpWSOjvyyKl/nT2xxJXe7"
    },
    "kernelspec": {
      "name": "python3",
      "display_name": "Python 3"
    },
    "language_info": {
      "name": "python"
    }
  },
  "cells": [
    {
      "cell_type": "code",
      "execution_count": null,
      "metadata": {
        "id": "eViLt2ylYWT7",
        "outputId": "62d37761-eae1-41b9-e906-a3028528fccf",
        "colab": {
          "base_uri": "https://localhost:8080/"
        }
      },
      "outputs": [
        {
          "output_type": "stream",
          "name": "stdout",
          "text": [
            "Drive already mounted at /content/drive; to attempt to forcibly remount, call drive.mount(\"/content/drive\", force_remount=True).\n"
          ]
        }
      ],
      "source": [
        "from google.colab import drive\n",
        "drive.mount('/content/drive')"
      ]
    },
    {
      "cell_type": "code",
      "source": [
        "import pandas as pd\n",
        "import matplotlib.pyplot as plt\n",
        "import seaborn as sns\n",
        "path = '/content/drive/MyDrive/cleaned_playstore_reviews.csv'\n",
        "df = pd.read_csv(path)\n",
        "path2 = '/content/drive/MyDrive/cleaned_playstore.csv'\n",
        "df2 = pd.read_csv(path2)\n",
        "\n",
        "combined_df2 = pd.merge(df, df2, on='App')"
      ],
      "metadata": {
        "id": "H8TqeueGUYE5"
      },
      "execution_count": null,
      "outputs": []
    },
    {
      "cell_type": "code",
      "source": [
        "combined_df2.describe()"
      ],
      "metadata": {
        "id": "ZHIEGwNhqjuj"
      },
      "execution_count": null,
      "outputs": []
    },
    {
      "cell_type": "code",
      "source": [
        "combined_df2.head()"
      ],
      "metadata": {
        "id": "DGz03rcsWdW8"
      },
      "execution_count": null,
      "outputs": []
    },
    {
      "cell_type": "code",
      "source": [
        "!pip install afinn"
      ],
      "metadata": {
        "id": "47-eZ4meVsv5"
      },
      "execution_count": null,
      "outputs": []
    },
    {
      "cell_type": "code",
      "source": [
        "from afinn import Afinn"
      ],
      "metadata": {
        "id": "Rm2_ImKJV6ll"
      },
      "execution_count": null,
      "outputs": []
    },
    {
      "cell_type": "code",
      "source": [
        "afinn = Afinn(emoticons=True, language ='en')\n",
        "\n",
        "combined_df2[\"sentiment_score\"] = combined_df2[\"Translated_Review\"].apply(afinn.score)"
      ],
      "metadata": {
        "id": "d3RChCUplA3G"
      },
      "execution_count": null,
      "outputs": []
    },
    {
      "cell_type": "code",
      "source": [
        "combined_df2 = combined_df2.drop(['Sentiment_Polarity', 'Sentiment', 'Sentiment_Subjectivity'], axis=1)"
      ],
      "metadata": {
        "id": "hp_rEjkvV9-P"
      },
      "execution_count": null,
      "outputs": []
    },
    {
      "cell_type": "code",
      "source": [
        "paid_apps = combined_df2[combined_df2['Type'] == 'Paid']\n",
        "\n",
        "top_sentiment = paid_apps.nlargest(5, 'sentiment_score')\n",
        "\n",
        "bottom_sentiment = paid_apps.nsmallest(5, 'sentiment_score')\n",
        "\n",
        "\n",
        "top_sentiment = top_sentiment[['App', 'Category', 'sentiment_score']]\n",
        "\n",
        "bottom_sentiment = bottom_sentiment[['App', 'Category', 'sentiment_score']]\n",
        "\n",
        "print(\"Top 5 Highest Sentiment:\")\n",
        "print(top_sentiment)\n",
        "print('\\n')\n",
        "print(\"Top 5 Lowest Sentiment:\")\n",
        "print(bottom_sentiment)\n",
        "print('\\n')\n",
        "\n",
        "\n",
        "category_sentiment = combined_df2.groupby('Category')['sentiment_score'].mean()\n",
        "\n",
        "best_category = category_sentiment.idxmax()\n",
        "print(\"Best Category:\", best_category)"
      ],
      "metadata": {
        "colab": {
          "base_uri": "https://localhost:8080/"
        },
        "id": "jdP3JJG1uPjm",
        "outputId": "3e33f30e-2bab-4207-db51-be3890f57481"
      },
      "execution_count": null,
      "outputs": [
        {
          "output_type": "stream",
          "name": "stdout",
          "text": [
            "Top 5 Highest Sentiment:\n",
            "                                App         Category  sentiment_score\n",
            "371             Essential Anatomy 3          MEDICAL             12.0\n",
            "111                    BIG Launcher  PERSONALIZATION              6.0\n",
            "147           Beautiful Widgets Pro  PERSONALIZATION              6.0\n",
            "550                      HD Widgets  PERSONALIZATION              6.0\n",
            "216  Call of Duty:Black Ops Zombies             GAME              3.0\n",
            "\n",
            "\n",
            "Top 5 Lowest Sentiment:\n",
            "                                App         Category  sentiment_score\n",
            "313         Diabetes & Diet Tracker          MEDICAL             -4.0\n",
            "412            Farming Simulator 18             GAME             -3.0\n",
            "522         Golfshot Plus: Golf GPS           SPORTS              0.0\n",
            "216  Call of Duty:Black Ops Zombies             GAME              3.0\n",
            "111                    BIG Launcher  PERSONALIZATION              6.0\n",
            "\n",
            "\n",
            "Best Category: GAME\n"
          ]
        }
      ]
    }
  ]
}